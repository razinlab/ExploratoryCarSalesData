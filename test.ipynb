{
 "cells": [
  {
   "cell_type": "markdown",
   "source": [
    "# Looking Through eBay Car Sales Data\n",
    "The goal of this project is to skim through a csv of various car sales data using NumPy and pandas."
   ],
   "metadata": {
    "collapsed": false
   },
   "id": "464fc9db10123cf6"
  },
  {
   "cell_type": "markdown",
   "source": [
    "We will start by importing the required libraries."
   ],
   "metadata": {
    "collapsed": false
   },
   "id": "1e69e8f6b421da27"
  },
  {
   "cell_type": "code",
   "outputs": [],
   "source": [
    "import numpy as np\n",
    "import pandas as pd"
   ],
   "metadata": {
    "collapsed": false,
    "ExecuteTime": {
     "end_time": "2024-09-25T07:59:36.459350100Z",
     "start_time": "2024-09-25T07:59:35.627657800Z"
    }
   },
   "id": "279701b1ab95c8e2",
   "execution_count": 1
  },
  {
   "cell_type": "markdown",
   "source": [
    "Now to load the data into a variable and take a quick peek at it."
   ],
   "metadata": {
    "collapsed": false
   },
   "id": "3c71ea6891d36bf5"
  },
  {
   "cell_type": "code",
   "outputs": [
    {
     "name": "stdout",
     "output_type": "stream",
     "text": [
      "<class 'pandas.core.frame.DataFrame'>\n",
      "RangeIndex: 50000 entries, 0 to 49999\n",
      "Data columns (total 20 columns):\n",
      " #   Column               Non-Null Count  Dtype \n",
      "---  ------               --------------  ----- \n",
      " 0   dateCrawled          50000 non-null  object\n",
      " 1   name                 50000 non-null  object\n",
      " 2   seller               50000 non-null  object\n",
      " 3   offerType            50000 non-null  object\n",
      " 4   price                50000 non-null  object\n",
      " 5   abtest               50000 non-null  object\n",
      " 6   vehicleType          44905 non-null  object\n",
      " 7   yearOfRegistration   50000 non-null  int64 \n",
      " 8   gearbox              47320 non-null  object\n",
      " 9   powerPS              50000 non-null  int64 \n",
      " 10  model                47242 non-null  object\n",
      " 11  odometer             50000 non-null  object\n",
      " 12  monthOfRegistration  50000 non-null  int64 \n",
      " 13  fuelType             45518 non-null  object\n",
      " 14  brand                50000 non-null  object\n",
      " 15  notRepairedDamage    40171 non-null  object\n",
      " 16  dateCreated          50000 non-null  object\n",
      " 17  nrOfPictures         50000 non-null  int64 \n",
      " 18  postalCode           50000 non-null  int64 \n",
      " 19  lastSeen             50000 non-null  object\n",
      "dtypes: int64(5), object(15)\n",
      "memory usage: 7.6+ MB\n"
     ]
    },
    {
     "data": {
      "text/plain": "(50000, 20)"
     },
     "execution_count": 2,
     "metadata": {},
     "output_type": "execute_result"
    }
   ],
   "source": [
    "autos=pd.read_csv('autos.csv', encoding='latin1')\n",
    "autos.info()\n",
    "autos.head()\n",
    "autos.shape"
   ],
   "metadata": {
    "collapsed": false,
    "ExecuteTime": {
     "end_time": "2024-09-25T07:59:36.699145Z",
     "start_time": "2024-09-25T07:59:36.459350100Z"
    }
   },
   "id": "b2ff84672e180b3c",
   "execution_count": 2
  },
  {
   "cell_type": "markdown",
   "source": [
    "Taking a quick look at the info, we can see that some of the columns contain rows with varying amounts of null values, which will have to be cleaned. The column names themselves can also be renamed to be more descriptive/clear."
   ],
   "metadata": {
    "collapsed": false
   },
   "id": "f1405326fa6f5232"
  },
  {
   "cell_type": "code",
   "outputs": [
    {
     "data": {
      "text/plain": "Index(['dateCrawled', 'name', 'seller', 'offerType', 'price', 'abtest',\n       'vehicleType', 'yearOfRegistration', 'gearbox', 'powerPS', 'model',\n       'odometer', 'monthOfRegistration', 'fuelType', 'brand',\n       'notRepairedDamage', 'dateCreated', 'nrOfPictures', 'postalCode',\n       'lastSeen'],\n      dtype='object')"
     },
     "execution_count": 3,
     "metadata": {},
     "output_type": "execute_result"
    }
   ],
   "source": [
    "autos.columns"
   ],
   "metadata": {
    "collapsed": false,
    "ExecuteTime": {
     "end_time": "2024-09-25T07:59:36.700714Z",
     "start_time": "2024-09-25T07:59:36.693838900Z"
    }
   },
   "id": "71a6223e515ec8e0",
   "execution_count": 3
  },
  {
   "cell_type": "code",
   "outputs": [
    {
     "data": {
      "text/plain": "          date_crawled                                               name  \\\n0  2016-03-26 17:47:46                   Peugeot_807_160_NAVTECH_ON_BOARD   \n1  2016-04-04 13:38:56         BMW_740i_4_4_Liter_HAMANN_UMBAU_Mega_Optik   \n2  2016-03-26 18:57:24                         Volkswagen_Golf_1.6_United   \n3  2016-03-12 16:58:10  Smart_smart_fortwo_coupe_softouch/F1/Klima/Pan...   \n4  2016-04-01 14:38:50  Ford_Focus_1_6_Benzin_TÜV_neu_ist_sehr_gepfleg...   \n\n   seller offer_type   price  ab_test vehicle_type  registration_year  \\\n0  privat    Angebot  $5,000  control          bus               2004   \n1  privat    Angebot  $8,500  control    limousine               1997   \n2  privat    Angebot  $8,990     test    limousine               2009   \n3  privat    Angebot  $4,350  control   kleinwagen               2007   \n4  privat    Angebot  $1,350     test        kombi               2003   \n\n     gearbox  power_PS   model   odometer  registration_month fuel_type  \\\n0    manuell       158  andere  150,000km                   3       lpg   \n1  automatik       286     7er  150,000km                   6    benzin   \n2    manuell       102    golf   70,000km                   7    benzin   \n3  automatik        71  fortwo   70,000km                   6    benzin   \n4    manuell         0   focus  150,000km                   7    benzin   \n\n        brand unrepaired_damage           ad_created  nr_of_pictures  \\\n0     peugeot              nein  2016-03-26 00:00:00               0   \n1         bmw              nein  2016-04-04 00:00:00               0   \n2  volkswagen              nein  2016-03-26 00:00:00               0   \n3       smart              nein  2016-03-12 00:00:00               0   \n4        ford              nein  2016-04-01 00:00:00               0   \n\n   postal_code            last_seen  \n0        79588  2016-04-06 06:45:54  \n1        71034  2016-04-06 14:45:08  \n2        35394  2016-04-06 20:15:37  \n3        33729  2016-03-15 03:16:28  \n4        39218  2016-04-01 14:38:50  ",
      "text/html": "<div>\n<style scoped>\n    .dataframe tbody tr th:only-of-type {\n        vertical-align: middle;\n    }\n\n    .dataframe tbody tr th {\n        vertical-align: top;\n    }\n\n    .dataframe thead th {\n        text-align: right;\n    }\n</style>\n<table border=\"1\" class=\"dataframe\">\n  <thead>\n    <tr style=\"text-align: right;\">\n      <th></th>\n      <th>date_crawled</th>\n      <th>name</th>\n      <th>seller</th>\n      <th>offer_type</th>\n      <th>price</th>\n      <th>ab_test</th>\n      <th>vehicle_type</th>\n      <th>registration_year</th>\n      <th>gearbox</th>\n      <th>power_PS</th>\n      <th>model</th>\n      <th>odometer</th>\n      <th>registration_month</th>\n      <th>fuel_type</th>\n      <th>brand</th>\n      <th>unrepaired_damage</th>\n      <th>ad_created</th>\n      <th>nr_of_pictures</th>\n      <th>postal_code</th>\n      <th>last_seen</th>\n    </tr>\n  </thead>\n  <tbody>\n    <tr>\n      <th>0</th>\n      <td>2016-03-26 17:47:46</td>\n      <td>Peugeot_807_160_NAVTECH_ON_BOARD</td>\n      <td>privat</td>\n      <td>Angebot</td>\n      <td>$5,000</td>\n      <td>control</td>\n      <td>bus</td>\n      <td>2004</td>\n      <td>manuell</td>\n      <td>158</td>\n      <td>andere</td>\n      <td>150,000km</td>\n      <td>3</td>\n      <td>lpg</td>\n      <td>peugeot</td>\n      <td>nein</td>\n      <td>2016-03-26 00:00:00</td>\n      <td>0</td>\n      <td>79588</td>\n      <td>2016-04-06 06:45:54</td>\n    </tr>\n    <tr>\n      <th>1</th>\n      <td>2016-04-04 13:38:56</td>\n      <td>BMW_740i_4_4_Liter_HAMANN_UMBAU_Mega_Optik</td>\n      <td>privat</td>\n      <td>Angebot</td>\n      <td>$8,500</td>\n      <td>control</td>\n      <td>limousine</td>\n      <td>1997</td>\n      <td>automatik</td>\n      <td>286</td>\n      <td>7er</td>\n      <td>150,000km</td>\n      <td>6</td>\n      <td>benzin</td>\n      <td>bmw</td>\n      <td>nein</td>\n      <td>2016-04-04 00:00:00</td>\n      <td>0</td>\n      <td>71034</td>\n      <td>2016-04-06 14:45:08</td>\n    </tr>\n    <tr>\n      <th>2</th>\n      <td>2016-03-26 18:57:24</td>\n      <td>Volkswagen_Golf_1.6_United</td>\n      <td>privat</td>\n      <td>Angebot</td>\n      <td>$8,990</td>\n      <td>test</td>\n      <td>limousine</td>\n      <td>2009</td>\n      <td>manuell</td>\n      <td>102</td>\n      <td>golf</td>\n      <td>70,000km</td>\n      <td>7</td>\n      <td>benzin</td>\n      <td>volkswagen</td>\n      <td>nein</td>\n      <td>2016-03-26 00:00:00</td>\n      <td>0</td>\n      <td>35394</td>\n      <td>2016-04-06 20:15:37</td>\n    </tr>\n    <tr>\n      <th>3</th>\n      <td>2016-03-12 16:58:10</td>\n      <td>Smart_smart_fortwo_coupe_softouch/F1/Klima/Pan...</td>\n      <td>privat</td>\n      <td>Angebot</td>\n      <td>$4,350</td>\n      <td>control</td>\n      <td>kleinwagen</td>\n      <td>2007</td>\n      <td>automatik</td>\n      <td>71</td>\n      <td>fortwo</td>\n      <td>70,000km</td>\n      <td>6</td>\n      <td>benzin</td>\n      <td>smart</td>\n      <td>nein</td>\n      <td>2016-03-12 00:00:00</td>\n      <td>0</td>\n      <td>33729</td>\n      <td>2016-03-15 03:16:28</td>\n    </tr>\n    <tr>\n      <th>4</th>\n      <td>2016-04-01 14:38:50</td>\n      <td>Ford_Focus_1_6_Benzin_TÜV_neu_ist_sehr_gepfleg...</td>\n      <td>privat</td>\n      <td>Angebot</td>\n      <td>$1,350</td>\n      <td>test</td>\n      <td>kombi</td>\n      <td>2003</td>\n      <td>manuell</td>\n      <td>0</td>\n      <td>focus</td>\n      <td>150,000km</td>\n      <td>7</td>\n      <td>benzin</td>\n      <td>ford</td>\n      <td>nein</td>\n      <td>2016-04-01 00:00:00</td>\n      <td>0</td>\n      <td>39218</td>\n      <td>2016-04-01 14:38:50</td>\n    </tr>\n  </tbody>\n</table>\n</div>"
     },
     "execution_count": 4,
     "metadata": {},
     "output_type": "execute_result"
    }
   ],
   "source": [
    "autos.columns=['date_crawled', 'name', 'seller', 'offer_type', 'price', 'ab_test',\n",
    "       'vehicle_type', 'registration_year', 'gearbox', 'power_PS', 'model',\n",
    "       'odometer', 'registration_month', 'fuel_type', 'brand',\n",
    "       'unrepaired_damage', 'ad_created', 'nr_of_pictures', 'postal_code',\n",
    "       'last_seen']\n",
    "autos.head()"
   ],
   "metadata": {
    "collapsed": false,
    "ExecuteTime": {
     "end_time": "2024-09-25T07:59:36.721057900Z",
     "start_time": "2024-09-25T07:59:36.699145Z"
    }
   },
   "id": "6bb9188b147277c3",
   "execution_count": 4
  },
  {
   "cell_type": "markdown",
   "source": [
    "The columns have been copied and then manually reassigned into the .columns attribute as writing a script to rename it would have been redundant. The names have also been rewritten into snake_case to reflect a more consistent naming scheme across the project."
   ],
   "metadata": {
    "collapsed": false
   },
   "id": "191df723195dfde"
  },
  {
   "cell_type": "markdown",
   "source": [
    "Next we will look some basic stats for the autos DataFrame to gain some further insight on how to clean it. Looking at the results from the .describe method, it seems that the seller and offer_type columns have the same values, so these may be ignored. The nr_of_pictures column also seems to mark every listing as having 0 pictures, so this may also be ignored. There also seem to be columns that should be numbers, however, are showing up as null values, likely due to some letters being mixed in."
   ],
   "metadata": {
    "collapsed": false
   },
   "id": "198e319da123e83f"
  },
  {
   "cell_type": "code",
   "outputs": [
    {
     "data": {
      "text/plain": "               date_crawled         name  seller offer_type  price ab_test  \\\ncount                 50000        50000   50000      50000  50000   50000   \nunique                48213        38754       2          2   2357       2   \ntop     2016-03-29 23:42:13  Ford_Fiesta  privat    Angebot     $0    test   \nfreq                      3           78   49999      49999   1421   25756   \nmean                    NaN          NaN     NaN        NaN    NaN     NaN   \nstd                     NaN          NaN     NaN        NaN    NaN     NaN   \nmin                     NaN          NaN     NaN        NaN    NaN     NaN   \n25%                     NaN          NaN     NaN        NaN    NaN     NaN   \n50%                     NaN          NaN     NaN        NaN    NaN     NaN   \n75%                     NaN          NaN     NaN        NaN    NaN     NaN   \nmax                     NaN          NaN     NaN        NaN    NaN     NaN   \n\n       vehicle_type  registration_year  gearbox      power_PS  model  \\\ncount         44905       50000.000000    47320  50000.000000  47242   \nunique            8                NaN        2           NaN    245   \ntop       limousine                NaN  manuell           NaN   golf   \nfreq          12859                NaN    36993           NaN   4024   \nmean            NaN        2005.073280      NaN    116.355920    NaN   \nstd             NaN         105.712813      NaN    209.216627    NaN   \nmin             NaN        1000.000000      NaN      0.000000    NaN   \n25%             NaN        1999.000000      NaN     70.000000    NaN   \n50%             NaN        2003.000000      NaN    105.000000    NaN   \n75%             NaN        2008.000000      NaN    150.000000    NaN   \nmax             NaN        9999.000000      NaN  17700.000000    NaN   \n\n         odometer  registration_month fuel_type       brand unrepaired_damage  \\\ncount       50000        50000.000000     45518       50000             40171   \nunique         13                 NaN         7          40                 2   \ntop     150,000km                 NaN    benzin  volkswagen              nein   \nfreq        32424                 NaN     30107       10687             35232   \nmean          NaN            5.723360       NaN         NaN               NaN   \nstd           NaN            3.711984       NaN         NaN               NaN   \nmin           NaN            0.000000       NaN         NaN               NaN   \n25%           NaN            3.000000       NaN         NaN               NaN   \n50%           NaN            6.000000       NaN         NaN               NaN   \n75%           NaN            9.000000       NaN         NaN               NaN   \nmax           NaN           12.000000       NaN         NaN               NaN   \n\n                 ad_created  nr_of_pictures   postal_code            last_seen  \ncount                 50000         50000.0  50000.000000                50000  \nunique                   76             NaN           NaN                39481  \ntop     2016-04-03 00:00:00             NaN           NaN  2016-04-07 06:17:27  \nfreq                   1946             NaN           NaN                    8  \nmean                    NaN             0.0  50813.627300                  NaN  \nstd                     NaN             0.0  25779.747957                  NaN  \nmin                     NaN             0.0   1067.000000                  NaN  \n25%                     NaN             0.0  30451.000000                  NaN  \n50%                     NaN             0.0  49577.000000                  NaN  \n75%                     NaN             0.0  71540.000000                  NaN  \nmax                     NaN             0.0  99998.000000                  NaN  ",
      "text/html": "<div>\n<style scoped>\n    .dataframe tbody tr th:only-of-type {\n        vertical-align: middle;\n    }\n\n    .dataframe tbody tr th {\n        vertical-align: top;\n    }\n\n    .dataframe thead th {\n        text-align: right;\n    }\n</style>\n<table border=\"1\" class=\"dataframe\">\n  <thead>\n    <tr style=\"text-align: right;\">\n      <th></th>\n      <th>date_crawled</th>\n      <th>name</th>\n      <th>seller</th>\n      <th>offer_type</th>\n      <th>price</th>\n      <th>ab_test</th>\n      <th>vehicle_type</th>\n      <th>registration_year</th>\n      <th>gearbox</th>\n      <th>power_PS</th>\n      <th>model</th>\n      <th>odometer</th>\n      <th>registration_month</th>\n      <th>fuel_type</th>\n      <th>brand</th>\n      <th>unrepaired_damage</th>\n      <th>ad_created</th>\n      <th>nr_of_pictures</th>\n      <th>postal_code</th>\n      <th>last_seen</th>\n    </tr>\n  </thead>\n  <tbody>\n    <tr>\n      <th>count</th>\n      <td>50000</td>\n      <td>50000</td>\n      <td>50000</td>\n      <td>50000</td>\n      <td>50000</td>\n      <td>50000</td>\n      <td>44905</td>\n      <td>50000.000000</td>\n      <td>47320</td>\n      <td>50000.000000</td>\n      <td>47242</td>\n      <td>50000</td>\n      <td>50000.000000</td>\n      <td>45518</td>\n      <td>50000</td>\n      <td>40171</td>\n      <td>50000</td>\n      <td>50000.0</td>\n      <td>50000.000000</td>\n      <td>50000</td>\n    </tr>\n    <tr>\n      <th>unique</th>\n      <td>48213</td>\n      <td>38754</td>\n      <td>2</td>\n      <td>2</td>\n      <td>2357</td>\n      <td>2</td>\n      <td>8</td>\n      <td>NaN</td>\n      <td>2</td>\n      <td>NaN</td>\n      <td>245</td>\n      <td>13</td>\n      <td>NaN</td>\n      <td>7</td>\n      <td>40</td>\n      <td>2</td>\n      <td>76</td>\n      <td>NaN</td>\n      <td>NaN</td>\n      <td>39481</td>\n    </tr>\n    <tr>\n      <th>top</th>\n      <td>2016-03-29 23:42:13</td>\n      <td>Ford_Fiesta</td>\n      <td>privat</td>\n      <td>Angebot</td>\n      <td>$0</td>\n      <td>test</td>\n      <td>limousine</td>\n      <td>NaN</td>\n      <td>manuell</td>\n      <td>NaN</td>\n      <td>golf</td>\n      <td>150,000km</td>\n      <td>NaN</td>\n      <td>benzin</td>\n      <td>volkswagen</td>\n      <td>nein</td>\n      <td>2016-04-03 00:00:00</td>\n      <td>NaN</td>\n      <td>NaN</td>\n      <td>2016-04-07 06:17:27</td>\n    </tr>\n    <tr>\n      <th>freq</th>\n      <td>3</td>\n      <td>78</td>\n      <td>49999</td>\n      <td>49999</td>\n      <td>1421</td>\n      <td>25756</td>\n      <td>12859</td>\n      <td>NaN</td>\n      <td>36993</td>\n      <td>NaN</td>\n      <td>4024</td>\n      <td>32424</td>\n      <td>NaN</td>\n      <td>30107</td>\n      <td>10687</td>\n      <td>35232</td>\n      <td>1946</td>\n      <td>NaN</td>\n      <td>NaN</td>\n      <td>8</td>\n    </tr>\n    <tr>\n      <th>mean</th>\n      <td>NaN</td>\n      <td>NaN</td>\n      <td>NaN</td>\n      <td>NaN</td>\n      <td>NaN</td>\n      <td>NaN</td>\n      <td>NaN</td>\n      <td>2005.073280</td>\n      <td>NaN</td>\n      <td>116.355920</td>\n      <td>NaN</td>\n      <td>NaN</td>\n      <td>5.723360</td>\n      <td>NaN</td>\n      <td>NaN</td>\n      <td>NaN</td>\n      <td>NaN</td>\n      <td>0.0</td>\n      <td>50813.627300</td>\n      <td>NaN</td>\n    </tr>\n    <tr>\n      <th>std</th>\n      <td>NaN</td>\n      <td>NaN</td>\n      <td>NaN</td>\n      <td>NaN</td>\n      <td>NaN</td>\n      <td>NaN</td>\n      <td>NaN</td>\n      <td>105.712813</td>\n      <td>NaN</td>\n      <td>209.216627</td>\n      <td>NaN</td>\n      <td>NaN</td>\n      <td>3.711984</td>\n      <td>NaN</td>\n      <td>NaN</td>\n      <td>NaN</td>\n      <td>NaN</td>\n      <td>0.0</td>\n      <td>25779.747957</td>\n      <td>NaN</td>\n    </tr>\n    <tr>\n      <th>min</th>\n      <td>NaN</td>\n      <td>NaN</td>\n      <td>NaN</td>\n      <td>NaN</td>\n      <td>NaN</td>\n      <td>NaN</td>\n      <td>NaN</td>\n      <td>1000.000000</td>\n      <td>NaN</td>\n      <td>0.000000</td>\n      <td>NaN</td>\n      <td>NaN</td>\n      <td>0.000000</td>\n      <td>NaN</td>\n      <td>NaN</td>\n      <td>NaN</td>\n      <td>NaN</td>\n      <td>0.0</td>\n      <td>1067.000000</td>\n      <td>NaN</td>\n    </tr>\n    <tr>\n      <th>25%</th>\n      <td>NaN</td>\n      <td>NaN</td>\n      <td>NaN</td>\n      <td>NaN</td>\n      <td>NaN</td>\n      <td>NaN</td>\n      <td>NaN</td>\n      <td>1999.000000</td>\n      <td>NaN</td>\n      <td>70.000000</td>\n      <td>NaN</td>\n      <td>NaN</td>\n      <td>3.000000</td>\n      <td>NaN</td>\n      <td>NaN</td>\n      <td>NaN</td>\n      <td>NaN</td>\n      <td>0.0</td>\n      <td>30451.000000</td>\n      <td>NaN</td>\n    </tr>\n    <tr>\n      <th>50%</th>\n      <td>NaN</td>\n      <td>NaN</td>\n      <td>NaN</td>\n      <td>NaN</td>\n      <td>NaN</td>\n      <td>NaN</td>\n      <td>NaN</td>\n      <td>2003.000000</td>\n      <td>NaN</td>\n      <td>105.000000</td>\n      <td>NaN</td>\n      <td>NaN</td>\n      <td>6.000000</td>\n      <td>NaN</td>\n      <td>NaN</td>\n      <td>NaN</td>\n      <td>NaN</td>\n      <td>0.0</td>\n      <td>49577.000000</td>\n      <td>NaN</td>\n    </tr>\n    <tr>\n      <th>75%</th>\n      <td>NaN</td>\n      <td>NaN</td>\n      <td>NaN</td>\n      <td>NaN</td>\n      <td>NaN</td>\n      <td>NaN</td>\n      <td>NaN</td>\n      <td>2008.000000</td>\n      <td>NaN</td>\n      <td>150.000000</td>\n      <td>NaN</td>\n      <td>NaN</td>\n      <td>9.000000</td>\n      <td>NaN</td>\n      <td>NaN</td>\n      <td>NaN</td>\n      <td>NaN</td>\n      <td>0.0</td>\n      <td>71540.000000</td>\n      <td>NaN</td>\n    </tr>\n    <tr>\n      <th>max</th>\n      <td>NaN</td>\n      <td>NaN</td>\n      <td>NaN</td>\n      <td>NaN</td>\n      <td>NaN</td>\n      <td>NaN</td>\n      <td>NaN</td>\n      <td>9999.000000</td>\n      <td>NaN</td>\n      <td>17700.000000</td>\n      <td>NaN</td>\n      <td>NaN</td>\n      <td>12.000000</td>\n      <td>NaN</td>\n      <td>NaN</td>\n      <td>NaN</td>\n      <td>NaN</td>\n      <td>0.0</td>\n      <td>99998.000000</td>\n      <td>NaN</td>\n    </tr>\n  </tbody>\n</table>\n</div>"
     },
     "execution_count": 5,
     "metadata": {},
     "output_type": "execute_result"
    }
   ],
   "source": [
    "autos.describe(include='all')"
   ],
   "metadata": {
    "collapsed": false,
    "ExecuteTime": {
     "end_time": "2024-09-25T07:59:36.999246100Z",
     "start_time": "2024-09-25T07:59:36.717353400Z"
    }
   },
   "id": "228683590ba67d26",
   "execution_count": 5
  },
  {
   "cell_type": "code",
   "outputs": [],
   "source": [
    "autos = autos.drop([\"nr_of_pictures\", \"seller\", \"offer_type\"], axis=1)"
   ],
   "metadata": {
    "collapsed": false,
    "ExecuteTime": {
     "end_time": "2024-09-25T07:59:37.010923700Z",
     "start_time": "2024-09-25T07:59:36.865623100Z"
    }
   },
   "id": "20f2a8118ce51d37",
   "execution_count": 6
  },
  {
   "cell_type": "code",
   "outputs": [
    {
     "data": {
      "text/plain": "0         5000\n1         8500\n2         8990\n3         4350\n4         1350\n         ...  \n49995    24900\n49996     1980\n49997    13200\n49998    22900\n49999     1250\nName: price, Length: 50000, dtype: int64"
     },
     "execution_count": 7,
     "metadata": {},
     "output_type": "execute_result"
    }
   ],
   "source": [
    "autos['price']=autos['price'].str.replace('$','')\n",
    "autos['price']=autos['price'].str.replace(',','')\n",
    "autos['price']=autos['price'].astype(int)\n",
    "autos['price']"
   ],
   "metadata": {
    "collapsed": false,
    "ExecuteTime": {
     "end_time": "2024-09-25T07:59:37.094257100Z",
     "start_time": "2024-09-25T07:59:36.875449300Z"
    }
   },
   "id": "6d1dec4abf58a2e8",
   "execution_count": 7
  },
  {
   "cell_type": "markdown",
   "source": [
    "The odometer column also has letters mixed in with numeric data, however removing the km unit will obscure the data so we will rename the column to 'odometer_km' to make the readings easier to understand"
   ],
   "metadata": {
    "collapsed": false
   },
   "id": "2e27ad6e8196d2fe"
  },
  {
   "cell_type": "code",
   "outputs": [
    {
     "data": {
      "text/plain": "0        150000\n1        150000\n2         70000\n3         70000\n4        150000\n          ...  \n49995    100000\n49996    150000\n49997      5000\n49998     40000\n49999    150000\nName: odometer_km, Length: 50000, dtype: int64"
     },
     "execution_count": 8,
     "metadata": {},
     "output_type": "execute_result"
    }
   ],
   "source": [
    "autos.rename({'odometer':'odometer_km'},axis=1, inplace=True)\n",
    "autos['odometer_km']=autos['odometer_km'].str.replace('km','')\n",
    "autos['odometer_km']=autos['odometer_km'].str.replace(',','')\n",
    "autos['odometer_km']=autos['odometer_km'].astype(int)\n",
    "autos['odometer_km']"
   ],
   "metadata": {
    "collapsed": false,
    "ExecuteTime": {
     "end_time": "2024-09-25T07:59:37.096181300Z",
     "start_time": "2024-09-25T07:59:36.907157600Z"
    }
   },
   "id": "bb16951db60355f6",
   "execution_count": 8
  },
  {
   "cell_type": "markdown",
   "source": [
    "Now ww will look for outliers in the price and odometer_km columns, starting off with price:"
   ],
   "metadata": {
    "collapsed": false
   },
   "id": "be8d5225413056"
  },
  {
   "cell_type": "code",
   "outputs": [
    {
     "name": "stdout",
     "output_type": "stream",
     "text": [
      "(2357,)\n"
     ]
    },
    {
     "data": {
      "text/plain": "39705    99999999\n42221    27322222\n27371    12345678\n47598    12345678\n39377    12345678\n24384    11111111\n2897     11111111\n11137    10000000\n47634     3890000\n7814      1300000\n22947     1234566\n514        999999\n43049      999999\n37585      999990\n36818      350000\n14715      345000\n34723      299000\n35923      295000\n12682      265000\n47337      259000\n38299      250000\n37840      220000\n40918      198000\n43668      197000\n28090      194000\n20351      190000\n17140      180000\n11433      175000\n32840      169999\n18509      169000\nName: price, dtype: int64"
     },
     "execution_count": 9,
     "metadata": {},
     "output_type": "execute_result"
    }
   ],
   "source": [
    "print(autos['price'].unique().shape)\n",
    "pd.options.display.float_format = '{:.2f}'.format\n",
    "autos['price'].describe()\n",
    "autos['price'].sort_values(ascending=False).head(30)"
   ],
   "metadata": {
    "collapsed": false,
    "ExecuteTime": {
     "end_time": "2024-09-25T07:59:37.097843100Z",
     "start_time": "2024-09-25T07:59:36.942069Z"
    }
   },
   "id": "2ee25dced05b69ba",
   "execution_count": 9
  },
  {
   "cell_type": "markdown",
   "source": [
    "It seems that there is a big price jump from $350,000 to $999,990 so we will keep cars priced under $350,000. Next to look at the other end."
   ],
   "metadata": {
    "collapsed": false
   },
   "id": "d25c9d045b4a13a6"
  },
  {
   "cell_type": "code",
   "outputs": [
    {
     "data": {
      "text/plain": "price\n0     1421\n1      156\n2        3\n3        1\n5        2\n8        1\n9        1\n10       7\n11       2\n12       3\n13       2\n14       1\n15       2\n17       3\n18       1\n20       4\n25       5\n29       1\n30       7\n35       1\nName: count, dtype: int64"
     },
     "execution_count": 10,
     "metadata": {},
     "output_type": "execute_result"
    }
   ],
   "source": [
    "autos['price'].value_counts().sort_index(ascending=True).head(20)"
   ],
   "metadata": {
    "collapsed": false,
    "ExecuteTime": {
     "end_time": "2024-09-25T07:59:37.098386900Z",
     "start_time": "2024-09-25T07:59:36.954023400Z"
    }
   },
   "id": "e86d1e28d63b170e",
   "execution_count": 10
  },
  {
   "cell_type": "markdown",
   "source": [
    "We will remove the entries with a price of 0, as at no point during the listing of the car could the price be 0. There is always at least some value the seller must set the car at in order to start an auction, even if it is $1."
   ],
   "metadata": {
    "collapsed": false
   },
   "id": "60223c046cb4e5ac"
  },
  {
   "cell_type": "code",
   "outputs": [
    {
     "data": {
      "text/plain": "          price  registration_year  power_PS  odometer_km  registration_month  \\\ncount  48565.00           48565.00  48565.00     48565.00            48565.00   \nmean    5888.94            2004.76    117.20    125770.10                5.78   \nstd     9059.85              88.64    200.65     39788.64                3.69   \nmin        1.00            1000.00      0.00      5000.00                0.00   \n25%     1200.00            1999.00     71.00    125000.00                3.00   \n50%     3000.00            2004.00    107.00    150000.00                6.00   \n75%     7490.00            2008.00    150.00    150000.00                9.00   \nmax   350000.00            9999.00  17700.00    150000.00               12.00   \n\n       postal_code  \ncount     48565.00  \nmean      50975.75  \nstd       25746.97  \nmin        1067.00  \n25%       30657.00  \n50%       49716.00  \n75%       71665.00  \nmax       99998.00  ",
      "text/html": "<div>\n<style scoped>\n    .dataframe tbody tr th:only-of-type {\n        vertical-align: middle;\n    }\n\n    .dataframe tbody tr th {\n        vertical-align: top;\n    }\n\n    .dataframe thead th {\n        text-align: right;\n    }\n</style>\n<table border=\"1\" class=\"dataframe\">\n  <thead>\n    <tr style=\"text-align: right;\">\n      <th></th>\n      <th>price</th>\n      <th>registration_year</th>\n      <th>power_PS</th>\n      <th>odometer_km</th>\n      <th>registration_month</th>\n      <th>postal_code</th>\n    </tr>\n  </thead>\n  <tbody>\n    <tr>\n      <th>count</th>\n      <td>48565.00</td>\n      <td>48565.00</td>\n      <td>48565.00</td>\n      <td>48565.00</td>\n      <td>48565.00</td>\n      <td>48565.00</td>\n    </tr>\n    <tr>\n      <th>mean</th>\n      <td>5888.94</td>\n      <td>2004.76</td>\n      <td>117.20</td>\n      <td>125770.10</td>\n      <td>5.78</td>\n      <td>50975.75</td>\n    </tr>\n    <tr>\n      <th>std</th>\n      <td>9059.85</td>\n      <td>88.64</td>\n      <td>200.65</td>\n      <td>39788.64</td>\n      <td>3.69</td>\n      <td>25746.97</td>\n    </tr>\n    <tr>\n      <th>min</th>\n      <td>1.00</td>\n      <td>1000.00</td>\n      <td>0.00</td>\n      <td>5000.00</td>\n      <td>0.00</td>\n      <td>1067.00</td>\n    </tr>\n    <tr>\n      <th>25%</th>\n      <td>1200.00</td>\n      <td>1999.00</td>\n      <td>71.00</td>\n      <td>125000.00</td>\n      <td>3.00</td>\n      <td>30657.00</td>\n    </tr>\n    <tr>\n      <th>50%</th>\n      <td>3000.00</td>\n      <td>2004.00</td>\n      <td>107.00</td>\n      <td>150000.00</td>\n      <td>6.00</td>\n      <td>49716.00</td>\n    </tr>\n    <tr>\n      <th>75%</th>\n      <td>7490.00</td>\n      <td>2008.00</td>\n      <td>150.00</td>\n      <td>150000.00</td>\n      <td>9.00</td>\n      <td>71665.00</td>\n    </tr>\n    <tr>\n      <th>max</th>\n      <td>350000.00</td>\n      <td>9999.00</td>\n      <td>17700.00</td>\n      <td>150000.00</td>\n      <td>12.00</td>\n      <td>99998.00</td>\n    </tr>\n  </tbody>\n</table>\n</div>"
     },
     "execution_count": 11,
     "metadata": {},
     "output_type": "execute_result"
    }
   ],
   "source": [
    "autos=autos[autos['price'].between(1,350001)]\n",
    "autos.describe()"
   ],
   "metadata": {
    "collapsed": false,
    "ExecuteTime": {
     "end_time": "2024-09-25T07:59:37.128973800Z",
     "start_time": "2024-09-25T07:59:36.961045100Z"
    }
   },
   "id": "9da9f6551756d827",
   "execution_count": 11
  },
  {
   "cell_type": "markdown",
   "source": [
    "Now we will look at the odometer_km column:"
   ],
   "metadata": {
    "collapsed": false
   },
   "id": "377588d80726a874"
  },
  {
   "cell_type": "code",
   "outputs": [
    {
     "data": {
      "text/plain": "odometer_km\n150000    31414\n125000     5057\n100000     2115\n90000      1734\n80000      1415\n70000      1217\n60000      1155\n50000      1012\n5000        836\n40000       815\n30000       780\n20000       762\n10000       253\nName: count, dtype: int64"
     },
     "execution_count": 12,
     "metadata": {},
     "output_type": "execute_result"
    }
   ],
   "source": [
    "autos['odometer_km'].describe()\n",
    "autos['odometer_km'].value_counts()"
   ],
   "metadata": {
    "collapsed": false,
    "ExecuteTime": {
     "end_time": "2024-09-25T07:59:37.150000200Z",
     "start_time": "2024-09-25T07:59:37.003521400Z"
    }
   },
   "id": "8a8249257a28806e",
   "execution_count": 12
  },
  {
   "cell_type": "markdown",
   "source": [
    "The values in the odometer_km column seem reasonable so we will not do further cleaning."
   ],
   "metadata": {
    "collapsed": false
   },
   "id": "434f969b18cf5506"
  },
  {
   "cell_type": "markdown",
   "source": [
    "Now we will organize the date columns:"
   ],
   "metadata": {
    "collapsed": false
   },
   "id": "5fdaf62167fdfa6b"
  },
  {
   "cell_type": "code",
   "outputs": [
    {
     "data": {
      "text/plain": "          date_crawled            last_seen           ad_created\n0  2016-03-26 17:47:46  2016-04-06 06:45:54  2016-03-26 00:00:00\n1  2016-04-04 13:38:56  2016-04-06 14:45:08  2016-04-04 00:00:00\n2  2016-03-26 18:57:24  2016-04-06 20:15:37  2016-03-26 00:00:00\n3  2016-03-12 16:58:10  2016-03-15 03:16:28  2016-03-12 00:00:00\n4  2016-04-01 14:38:50  2016-04-01 14:38:50  2016-04-01 00:00:00",
      "text/html": "<div>\n<style scoped>\n    .dataframe tbody tr th:only-of-type {\n        vertical-align: middle;\n    }\n\n    .dataframe tbody tr th {\n        vertical-align: top;\n    }\n\n    .dataframe thead th {\n        text-align: right;\n    }\n</style>\n<table border=\"1\" class=\"dataframe\">\n  <thead>\n    <tr style=\"text-align: right;\">\n      <th></th>\n      <th>date_crawled</th>\n      <th>last_seen</th>\n      <th>ad_created</th>\n    </tr>\n  </thead>\n  <tbody>\n    <tr>\n      <th>0</th>\n      <td>2016-03-26 17:47:46</td>\n      <td>2016-04-06 06:45:54</td>\n      <td>2016-03-26 00:00:00</td>\n    </tr>\n    <tr>\n      <th>1</th>\n      <td>2016-04-04 13:38:56</td>\n      <td>2016-04-06 14:45:08</td>\n      <td>2016-04-04 00:00:00</td>\n    </tr>\n    <tr>\n      <th>2</th>\n      <td>2016-03-26 18:57:24</td>\n      <td>2016-04-06 20:15:37</td>\n      <td>2016-03-26 00:00:00</td>\n    </tr>\n    <tr>\n      <th>3</th>\n      <td>2016-03-12 16:58:10</td>\n      <td>2016-03-15 03:16:28</td>\n      <td>2016-03-12 00:00:00</td>\n    </tr>\n    <tr>\n      <th>4</th>\n      <td>2016-04-01 14:38:50</td>\n      <td>2016-04-01 14:38:50</td>\n      <td>2016-04-01 00:00:00</td>\n    </tr>\n  </tbody>\n</table>\n</div>"
     },
     "execution_count": 13,
     "metadata": {},
     "output_type": "execute_result"
    }
   ],
   "source": [
    "autos[['date_crawled','last_seen','ad_created']][:5]"
   ],
   "metadata": {
    "collapsed": false,
    "ExecuteTime": {
     "end_time": "2024-09-25T07:59:37.152106100Z",
     "start_time": "2024-09-25T07:59:37.010923700Z"
    }
   },
   "id": "d3529569c2ce8208",
   "execution_count": 13
  },
  {
   "cell_type": "markdown",
   "source": [
    "The data seems to be written in YYYY-MM-DD order, lets explore each column further to see the activity on the site."
   ],
   "metadata": {
    "collapsed": false
   },
   "id": "2030bd9b9a5f436a"
  },
  {
   "cell_type": "code",
   "outputs": [
    {
     "data": {
      "text/plain": "date_crawled\n2016-03-05   0.0253268815\n2016-03-06   0.0140430351\n2016-03-07   0.0360135900\n2016-03-08   0.0332955832\n2016-03-09   0.0330896736\n2016-03-10   0.0321836714\n2016-03-11   0.0325748996\n2016-03-12   0.0369195923\n2016-03-13   0.0156697210\n2016-03-14   0.0365489550\n2016-03-15   0.0342839493\n2016-03-16   0.0296098013\n2016-03-17   0.0316277154\n2016-03-18   0.0129105323\n2016-03-19   0.0347781324\n2016-03-20   0.0378873674\n2016-03-21   0.0373725934\n2016-03-22   0.0329867188\n2016-03-23   0.0322248533\n2016-03-24   0.0293421188\n2016-03-25   0.0316071245\n2016-03-26   0.0322042623\n2016-03-27   0.0310923505\n2016-03-28   0.0348604962\n2016-03-29   0.0340986307\n2016-03-30   0.0336868115\n2016-03-31   0.0318336250\n2016-04-01   0.0336868115\n2016-04-02   0.0354782251\n2016-04-03   0.0386080511\n2016-04-04   0.0364871821\n2016-04-05   0.0130958509\n2016-04-06   0.0031710079\n2016-04-07   0.0014001853\nName: proportion, dtype: float64"
     },
     "execution_count": 14,
     "metadata": {},
     "output_type": "execute_result"
    }
   ],
   "source": [
    "pd.options.display.float_format = '{:.10f}'.format\n",
    "autos['date_crawled'].str[:10].value_counts(normalize=True, dropna=False).sort_index()"
   ],
   "metadata": {
    "collapsed": false,
    "ExecuteTime": {
     "end_time": "2024-09-25T07:59:37.221267600Z",
     "start_time": "2024-09-25T07:59:37.025473Z"
    }
   },
   "id": "be8c7c6437e78d26",
   "execution_count": 14
  },
  {
   "cell_type": "markdown",
   "source": [
    "It seems that the listings were crawled through daily over a one month period from March to April."
   ],
   "metadata": {
    "collapsed": false
   },
   "id": "5a366619beded8b0"
  },
  {
   "cell_type": "code",
   "outputs": [
    {
     "data": {
      "text/plain": "ad_created\n2015-06-1   0.0000205910\n2015-08-1   0.0000205910\n2015-09-0   0.0000205910\n2015-11-1   0.0000205910\n2015-12-0   0.0000205910\n2015-12-3   0.0000205910\n2016-01-0   0.0000411819\n2016-01-1   0.0001029548\n2016-01-2   0.0001029548\n2016-02-0   0.0001647277\n2016-02-1   0.0002470915\n2016-02-2   0.0008442294\n2016-03-0   0.1419746731\n2016-03-1   0.2964480593\n2016-03-2   0.3336971070\n2016-03-3   0.0653762998\n2016-04-0   0.1608771749\nName: proportion, dtype: float64"
     },
     "execution_count": 15,
     "metadata": {},
     "output_type": "execute_result"
    }
   ],
   "source": [
    "autos['ad_created'].str[:9].value_counts(normalize=True).sort_index()"
   ],
   "metadata": {
    "collapsed": false,
    "ExecuteTime": {
     "end_time": "2024-09-25T07:59:37.359219400Z",
     "start_time": "2024-09-25T07:59:37.039530100Z"
    }
   },
   "id": "677b280f5e713012",
   "execution_count": 15
  },
  {
   "cell_type": "markdown",
   "source": [
    "It looks like ad creation ramped up drastically during the beginning of March."
   ],
   "metadata": {
    "collapsed": false
   },
   "id": "f1bb6286d125f0a8"
  },
  {
   "cell_type": "code",
   "outputs": [
    {
     "data": {
      "text/plain": "last_seen\n2016-03-05   0.0010707299\n2016-03-06   0.0043241017\n2016-03-07   0.0053948317\n2016-03-08   0.0074127458\n2016-03-09   0.0095953876\n2016-03-10   0.0106661176\n2016-03-11   0.0123751673\n2016-03-12   0.0237825595\n2016-03-13   0.0088952950\n2016-03-14   0.0126016679\n2016-03-15   0.0158756306\n2016-03-16   0.0164521775\n2016-03-17   0.0280860702\n2016-03-18   0.0073509729\n2016-03-19   0.0158344487\n2016-03-20   0.0206527335\n2016-03-21   0.0206321425\n2016-03-22   0.0213734171\n2016-03-23   0.0185318645\n2016-03-24   0.0197673221\n2016-03-25   0.0192113662\n2016-03-26   0.0168022238\n2016-03-27   0.0156491300\n2016-03-28   0.0208586431\n2016-03-29   0.0223411922\n2016-03-30   0.0247709256\n2016-03-31   0.0237825595\n2016-04-01   0.0227941933\n2016-04-02   0.0249150623\n2016-04-03   0.0252033357\n2016-04-04   0.0244826521\n2016-04-05   0.1247606301\n2016-04-06   0.2218058272\n2016-04-07   0.1319468753\nName: proportion, dtype: float64"
     },
     "execution_count": 16,
     "metadata": {},
     "output_type": "execute_result"
    }
   ],
   "source": [
    "autos['last_seen'].str[:10].value_counts(normalize=True).sort_index()"
   ],
   "metadata": {
    "collapsed": false,
    "ExecuteTime": {
     "end_time": "2024-09-25T07:59:37.360735Z",
     "start_time": "2024-09-25T07:59:37.057691500Z"
    }
   },
   "id": "7f7200b372beaadd",
   "execution_count": 16
  },
  {
   "cell_type": "markdown",
   "source": [
    "It looks like the site was viewed daily March-April."
   ],
   "metadata": {
    "collapsed": false
   },
   "id": "dc52516d6f3c660a"
  },
  {
   "cell_type": "markdown",
   "source": [
    "Lets use the .describe() method to look through the registration_year column as it is already formatted numerically:"
   ],
   "metadata": {
    "collapsed": false
   },
   "id": "339901f6fe16f8a9"
  },
  {
   "cell_type": "code",
   "outputs": [
    {
     "data": {
      "text/plain": "count   48565.0000000000\nmean     2004.7554205704\nstd        88.6438870626\nmin      1000.0000000000\n25%      1999.0000000000\n50%      2004.0000000000\n75%      2008.0000000000\nmax      9999.0000000000\nName: registration_year, dtype: float64"
     },
     "execution_count": 17,
     "metadata": {},
     "output_type": "execute_result"
    }
   ],
   "source": [
    "autos['registration_year'].describe()"
   ],
   "metadata": {
    "collapsed": false,
    "ExecuteTime": {
     "end_time": "2024-09-25T07:59:37.361835100Z",
     "start_time": "2024-09-25T07:59:37.075674400Z"
    }
   },
   "id": "8421cf1796e7be93",
   "execution_count": 17
  },
  {
   "cell_type": "markdown",
   "source": [
    "Taking a look at the basic stats, it looks like there are at least two invalid inputs. Let's take a closer look at the data."
   ],
   "metadata": {
    "collapsed": false
   },
   "id": "1b515aeef386155c"
  },
  {
   "cell_type": "code",
   "outputs": [
    {
     "data": {
      "text/plain": "registration_year\n9999       3\n9000       1\n8888       1\n6200       1\n5911       1\n5000       4\n4800       1\n4500       1\n4100       1\n2800       1\n2019       2\n2018     470\n2017    1392\n2016    1220\n2015     392\nName: count, dtype: int64"
     },
     "execution_count": 18,
     "metadata": {},
     "output_type": "execute_result"
    }
   ],
   "source": [
    "autos['registration_year'].value_counts().sort_index(ascending=False).head(15)"
   ],
   "metadata": {
    "collapsed": false,
    "ExecuteTime": {
     "end_time": "2024-09-25T07:59:37.363437Z",
     "start_time": "2024-09-25T07:59:37.089181600Z"
    }
   },
   "id": "e95338a07c8d8770",
   "execution_count": 18
  },
  {
   "cell_type": "code",
   "outputs": [
    {
     "data": {
      "text/plain": "registration_year\n1000    1\n1001    1\n1111    1\n1800    2\n1910    5\n1927    1\n1929    1\n1931    1\n1934    2\n1937    4\nName: count, dtype: int64"
     },
     "execution_count": 19,
     "metadata": {},
     "output_type": "execute_result"
    }
   ],
   "source": [
    "autos['registration_year'].value_counts().sort_index(ascending=True).head(10)"
   ],
   "metadata": {
    "collapsed": false,
    "ExecuteTime": {
     "end_time": "2024-09-25T07:59:37.395466100Z",
     "start_time": "2024-09-25T07:59:37.093064900Z"
    }
   },
   "id": "c88217fb4bdaf406",
   "execution_count": 19
  },
  {
   "cell_type": "markdown",
   "source": [
    "Looking at the latest and earliest registration years, it looks like the earliest a car could possibly have been registered is 1910 as cars weren't invented in 1800. The latest a car could have been registered is 2016 as that is when the data was collected. Let us update the registration_year column to reflect these observations."
   ],
   "metadata": {
    "collapsed": false
   },
   "id": "4f69a81872d177e"
  },
  {
   "cell_type": "code",
   "outputs": [
    {
     "data": {
      "text/plain": "count   46681.0000000000\nmean     2002.9107559821\nstd         7.1851034389\nmin      1910.0000000000\n25%      1999.0000000000\n50%      2003.0000000000\n75%      2008.0000000000\nmax      2016.0000000000\nName: registration_year, dtype: float64"
     },
     "execution_count": 20,
     "metadata": {},
     "output_type": "execute_result"
    }
   ],
   "source": [
    "autos=autos[autos['registration_year'].between(1909,2016)]\n",
    "autos['registration_year'].describe()"
   ],
   "metadata": {
    "collapsed": false,
    "ExecuteTime": {
     "end_time": "2024-09-25T07:59:37.398121400Z",
     "start_time": "2024-09-25T07:59:37.099405400Z"
    }
   },
   "id": "9911bfd0b21b3d6e",
   "execution_count": 20
  },
  {
   "cell_type": "markdown",
   "source": [
    "Lets look at the data by the top 10 most commonly listed brand names:"
   ],
   "metadata": {
    "collapsed": false
   },
   "id": "434b514289326ba"
  },
  {
   "cell_type": "code",
   "outputs": [
    {
     "data": {
      "text/plain": "brand\nvolkswagen       9862\nbmw              5137\nopel             5022\nmercedes_benz    4503\naudi             4041\nford             3263\nrenault          2201\npeugeot          1393\nfiat             1197\nseat              853\nName: count, dtype: int64"
     },
     "execution_count": 21,
     "metadata": {},
     "output_type": "execute_result"
    }
   ],
   "source": [
    "autos['brand'].value_counts(sort=True).head(10)"
   ],
   "metadata": {
    "collapsed": false,
    "ExecuteTime": {
     "end_time": "2024-09-25T07:59:37.398121400Z",
     "start_time": "2024-09-25T07:59:37.121936700Z"
    }
   },
   "id": "4e008d47f2303cce",
   "execution_count": 21
  },
  {
   "cell_type": "markdown",
   "source": [
    "Lets find the mean price oof cars sold for each brand:"
   ],
   "metadata": {
    "collapsed": false
   },
   "id": "9197ec256d8089d3"
  },
  {
   "cell_type": "code",
   "outputs": [
    {
     "data": {
      "text/plain": "{'volkswagen': 5402,\n 'bmw': 8332,\n 'opel': 2975,\n 'mercedes_benz': 8628,\n 'audi': 9336,\n 'ford': 3749,\n 'renault': 2474,\n 'peugeot': 3094,\n 'fiat': 2813,\n 'seat': 4397}"
     },
     "execution_count": 22,
     "metadata": {},
     "output_type": "execute_result"
    }
   ],
   "source": [
    "brands=autos['brand'].value_counts()\n",
    "top_10_brands=brands[brands>=853].index\n",
    "\n",
    "brand_means={}\n",
    "\n",
    "for brand in top_10_brands:\n",
    "       selected_brand=autos[autos['brand']==brand]\n",
    "       brand_mean=selected_brand['price'].mean()\n",
    "       brand_means[brand]=int(brand_mean)\n",
    "\n",
    "brand_means\n"
   ],
   "metadata": {
    "collapsed": false,
    "ExecuteTime": {
     "end_time": "2024-09-25T07:59:37.459661200Z",
     "start_time": "2024-09-25T07:59:37.127870200Z"
    }
   },
   "id": "e9d6fa5a5014f1d2",
   "execution_count": 22
  },
  {
   "cell_type": "markdown",
   "source": [
    "The printed dictionary shows the top 10 most commonly sold cars and the mean price of all cars sold. The price seems to differ drastically amongst the top 10 brands."
   ],
   "metadata": {
    "collapsed": false
   },
   "id": "c829d3bce5ec4ab1"
  },
  {
   "cell_type": "markdown",
   "source": [
    "Lets next look at mileage data to see if there is any correlation between the two:"
   ],
   "metadata": {
    "collapsed": false
   },
   "id": "c8e614d04180a09c"
  },
  {
   "cell_type": "code",
   "outputs": [
    {
     "data": {
      "text/plain": "               brand_mean_price  mean mileage\nvolkswagen                 5402        128707\nbmw                        8332        132572\nopel                       2975        129310\nmercedes_benz              8628        130788\naudi                       9336        129157\nford                       3749        124266\nrenault                    2474        128071\npeugeot                    3094        127153\nfiat                       2813        117121\nseat                       4397        121131",
      "text/html": "<div>\n<style scoped>\n    .dataframe tbody tr th:only-of-type {\n        vertical-align: middle;\n    }\n\n    .dataframe tbody tr th {\n        vertical-align: top;\n    }\n\n    .dataframe thead th {\n        text-align: right;\n    }\n</style>\n<table border=\"1\" class=\"dataframe\">\n  <thead>\n    <tr style=\"text-align: right;\">\n      <th></th>\n      <th>brand_mean_price</th>\n      <th>mean mileage</th>\n    </tr>\n  </thead>\n  <tbody>\n    <tr>\n      <th>volkswagen</th>\n      <td>5402</td>\n      <td>128707</td>\n    </tr>\n    <tr>\n      <th>bmw</th>\n      <td>8332</td>\n      <td>132572</td>\n    </tr>\n    <tr>\n      <th>opel</th>\n      <td>2975</td>\n      <td>129310</td>\n    </tr>\n    <tr>\n      <th>mercedes_benz</th>\n      <td>8628</td>\n      <td>130788</td>\n    </tr>\n    <tr>\n      <th>audi</th>\n      <td>9336</td>\n      <td>129157</td>\n    </tr>\n    <tr>\n      <th>ford</th>\n      <td>3749</td>\n      <td>124266</td>\n    </tr>\n    <tr>\n      <th>renault</th>\n      <td>2474</td>\n      <td>128071</td>\n    </tr>\n    <tr>\n      <th>peugeot</th>\n      <td>3094</td>\n      <td>127153</td>\n    </tr>\n    <tr>\n      <th>fiat</th>\n      <td>2813</td>\n      <td>117121</td>\n    </tr>\n    <tr>\n      <th>seat</th>\n      <td>4397</td>\n      <td>121131</td>\n    </tr>\n  </tbody>\n</table>\n</div>"
     },
     "execution_count": 23,
     "metadata": {},
     "output_type": "execute_result"
    }
   ],
   "source": [
    "mean_mileage={}\n",
    "\n",
    "for brand in top_10_brands:\n",
    "       selected_brand=autos[autos['brand']==brand]\n",
    "       mileage=selected_brand['odometer_km'].mean()\n",
    "       mean_mileage[brand]=int(mileage)\n",
    "\n",
    "bmp=pd.Series(brand_means)\n",
    "mm=pd.Series(mean_mileage)\n",
    "\n",
    "bmp_mm=pd.DataFrame(bmp, columns=['brand_mean_price'])\n",
    "bmp_mm['mean mileage']=mm\n",
    "\n",
    "bmp_mm"
   ],
   "metadata": {
    "collapsed": false,
    "ExecuteTime": {
     "end_time": "2024-09-25T07:59:37.479240Z",
     "start_time": "2024-09-25T07:59:37.178202900Z"
    }
   },
   "id": "74ea5a832c21076f",
   "execution_count": 23
  },
  {
   "cell_type": "markdown",
   "source": [
    "From the table, it seems as though there isn't a correlation between price and mileage. The odometer readings seem to all be pretty uniform. There is very slight variation as price ascends but this variation is not significant."
   ],
   "metadata": {
    "collapsed": false
   },
   "id": "ff02a9887d1ab6f7"
  }
 ],
 "metadata": {
  "kernelspec": {
   "display_name": "Python 3",
   "language": "python",
   "name": "python3"
  },
  "language_info": {
   "codemirror_mode": {
    "name": "ipython",
    "version": 2
   },
   "file_extension": ".py",
   "mimetype": "text/x-python",
   "name": "python",
   "nbconvert_exporter": "python",
   "pygments_lexer": "ipython2",
   "version": "2.7.6"
  }
 },
 "nbformat": 4,
 "nbformat_minor": 5
}
